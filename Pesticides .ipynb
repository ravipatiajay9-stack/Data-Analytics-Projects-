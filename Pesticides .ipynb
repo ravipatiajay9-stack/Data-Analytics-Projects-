{
 "cells": [
  {
   "cell_type": "code",
   "execution_count": 8,
   "id": "08cd70ec",
   "metadata": {},
   "outputs": [],
   "source": [
    "import pandas as pd"
   ]
  },
  {
   "cell_type": "code",
   "execution_count": 9,
   "id": "947ce97d",
   "metadata": {},
   "outputs": [],
   "source": [
    "df =pd.read_csv(\"pesticides.csv\")"
   ]
  },
  {
   "cell_type": "code",
   "execution_count": 10,
   "id": "cb308133",
   "metadata": {},
   "outputs": [
    {
     "data": {
      "text/html": [
       "<div>\n",
       "<style scoped>\n",
       "    .dataframe tbody tr th:only-of-type {\n",
       "        vertical-align: middle;\n",
       "    }\n",
       "\n",
       "    .dataframe tbody tr th {\n",
       "        vertical-align: top;\n",
       "    }\n",
       "\n",
       "    .dataframe thead th {\n",
       "        text-align: right;\n",
       "    }\n",
       "</style>\n",
       "<table border=\"1\" class=\"dataframe\">\n",
       "  <thead>\n",
       "    <tr style=\"text-align: right;\">\n",
       "      <th></th>\n",
       "      <th>Domain</th>\n",
       "      <th>Area</th>\n",
       "      <th>Element</th>\n",
       "      <th>Item</th>\n",
       "      <th>Year</th>\n",
       "      <th>Unit</th>\n",
       "      <th>Value</th>\n",
       "    </tr>\n",
       "  </thead>\n",
       "  <tbody>\n",
       "    <tr>\n",
       "      <th>0</th>\n",
       "      <td>Pesticides Use</td>\n",
       "      <td>Albania</td>\n",
       "      <td>Use</td>\n",
       "      <td>Pesticides (total)</td>\n",
       "      <td>1990</td>\n",
       "      <td>tonnes of active ingredients</td>\n",
       "      <td>121.00</td>\n",
       "    </tr>\n",
       "    <tr>\n",
       "      <th>1</th>\n",
       "      <td>Pesticides Use</td>\n",
       "      <td>Albania</td>\n",
       "      <td>Use</td>\n",
       "      <td>Pesticides (total)</td>\n",
       "      <td>1991</td>\n",
       "      <td>tonnes of active ingredients</td>\n",
       "      <td>121.00</td>\n",
       "    </tr>\n",
       "    <tr>\n",
       "      <th>2</th>\n",
       "      <td>Pesticides Use</td>\n",
       "      <td>Albania</td>\n",
       "      <td>Use</td>\n",
       "      <td>Pesticides (total)</td>\n",
       "      <td>1992</td>\n",
       "      <td>tonnes of active ingredients</td>\n",
       "      <td>121.00</td>\n",
       "    </tr>\n",
       "    <tr>\n",
       "      <th>3</th>\n",
       "      <td>Pesticides Use</td>\n",
       "      <td>Albania</td>\n",
       "      <td>Use</td>\n",
       "      <td>Pesticides (total)</td>\n",
       "      <td>1993</td>\n",
       "      <td>tonnes of active ingredients</td>\n",
       "      <td>121.00</td>\n",
       "    </tr>\n",
       "    <tr>\n",
       "      <th>4</th>\n",
       "      <td>Pesticides Use</td>\n",
       "      <td>Albania</td>\n",
       "      <td>Use</td>\n",
       "      <td>Pesticides (total)</td>\n",
       "      <td>1994</td>\n",
       "      <td>tonnes of active ingredients</td>\n",
       "      <td>201.00</td>\n",
       "    </tr>\n",
       "    <tr>\n",
       "      <th>...</th>\n",
       "      <td>...</td>\n",
       "      <td>...</td>\n",
       "      <td>...</td>\n",
       "      <td>...</td>\n",
       "      <td>...</td>\n",
       "      <td>...</td>\n",
       "      <td>...</td>\n",
       "    </tr>\n",
       "    <tr>\n",
       "      <th>4344</th>\n",
       "      <td>Pesticides Use</td>\n",
       "      <td>Zimbabwe</td>\n",
       "      <td>Use</td>\n",
       "      <td>Pesticides (total)</td>\n",
       "      <td>2012</td>\n",
       "      <td>tonnes of active ingredients</td>\n",
       "      <td>3375.53</td>\n",
       "    </tr>\n",
       "    <tr>\n",
       "      <th>4345</th>\n",
       "      <td>Pesticides Use</td>\n",
       "      <td>Zimbabwe</td>\n",
       "      <td>Use</td>\n",
       "      <td>Pesticides (total)</td>\n",
       "      <td>2013</td>\n",
       "      <td>tonnes of active ingredients</td>\n",
       "      <td>2550.07</td>\n",
       "    </tr>\n",
       "    <tr>\n",
       "      <th>4346</th>\n",
       "      <td>Pesticides Use</td>\n",
       "      <td>Zimbabwe</td>\n",
       "      <td>Use</td>\n",
       "      <td>Pesticides (total)</td>\n",
       "      <td>2014</td>\n",
       "      <td>tonnes of active ingredients</td>\n",
       "      <td>2185.07</td>\n",
       "    </tr>\n",
       "    <tr>\n",
       "      <th>4347</th>\n",
       "      <td>Pesticides Use</td>\n",
       "      <td>Zimbabwe</td>\n",
       "      <td>Use</td>\n",
       "      <td>Pesticides (total)</td>\n",
       "      <td>2015</td>\n",
       "      <td>tonnes of active ingredients</td>\n",
       "      <td>2185.07</td>\n",
       "    </tr>\n",
       "    <tr>\n",
       "      <th>4348</th>\n",
       "      <td>Pesticides Use</td>\n",
       "      <td>Zimbabwe</td>\n",
       "      <td>Use</td>\n",
       "      <td>Pesticides (total)</td>\n",
       "      <td>2016</td>\n",
       "      <td>tonnes of active ingredients</td>\n",
       "      <td>2185.07</td>\n",
       "    </tr>\n",
       "  </tbody>\n",
       "</table>\n",
       "<p>4349 rows × 7 columns</p>\n",
       "</div>"
      ],
      "text/plain": [
       "              Domain      Area Element                Item  Year  \\\n",
       "0     Pesticides Use   Albania     Use  Pesticides (total)  1990   \n",
       "1     Pesticides Use   Albania     Use  Pesticides (total)  1991   \n",
       "2     Pesticides Use   Albania     Use  Pesticides (total)  1992   \n",
       "3     Pesticides Use   Albania     Use  Pesticides (total)  1993   \n",
       "4     Pesticides Use   Albania     Use  Pesticides (total)  1994   \n",
       "...              ...       ...     ...                 ...   ...   \n",
       "4344  Pesticides Use  Zimbabwe     Use  Pesticides (total)  2012   \n",
       "4345  Pesticides Use  Zimbabwe     Use  Pesticides (total)  2013   \n",
       "4346  Pesticides Use  Zimbabwe     Use  Pesticides (total)  2014   \n",
       "4347  Pesticides Use  Zimbabwe     Use  Pesticides (total)  2015   \n",
       "4348  Pesticides Use  Zimbabwe     Use  Pesticides (total)  2016   \n",
       "\n",
       "                              Unit    Value  \n",
       "0     tonnes of active ingredients   121.00  \n",
       "1     tonnes of active ingredients   121.00  \n",
       "2     tonnes of active ingredients   121.00  \n",
       "3     tonnes of active ingredients   121.00  \n",
       "4     tonnes of active ingredients   201.00  \n",
       "...                            ...      ...  \n",
       "4344  tonnes of active ingredients  3375.53  \n",
       "4345  tonnes of active ingredients  2550.07  \n",
       "4346  tonnes of active ingredients  2185.07  \n",
       "4347  tonnes of active ingredients  2185.07  \n",
       "4348  tonnes of active ingredients  2185.07  \n",
       "\n",
       "[4349 rows x 7 columns]"
      ]
     },
     "execution_count": 10,
     "metadata": {},
     "output_type": "execute_result"
    }
   ],
   "source": [
    "df"
   ]
  },
  {
   "cell_type": "code",
   "execution_count": 11,
   "id": "6c456109",
   "metadata": {},
   "outputs": [
    {
     "data": {
      "text/plain": [
       "<bound method NDFrame.head of               Domain      Area Element                Item  Year  \\\n",
       "0     Pesticides Use   Albania     Use  Pesticides (total)  1990   \n",
       "1     Pesticides Use   Albania     Use  Pesticides (total)  1991   \n",
       "2     Pesticides Use   Albania     Use  Pesticides (total)  1992   \n",
       "3     Pesticides Use   Albania     Use  Pesticides (total)  1993   \n",
       "4     Pesticides Use   Albania     Use  Pesticides (total)  1994   \n",
       "...              ...       ...     ...                 ...   ...   \n",
       "4344  Pesticides Use  Zimbabwe     Use  Pesticides (total)  2012   \n",
       "4345  Pesticides Use  Zimbabwe     Use  Pesticides (total)  2013   \n",
       "4346  Pesticides Use  Zimbabwe     Use  Pesticides (total)  2014   \n",
       "4347  Pesticides Use  Zimbabwe     Use  Pesticides (total)  2015   \n",
       "4348  Pesticides Use  Zimbabwe     Use  Pesticides (total)  2016   \n",
       "\n",
       "                              Unit    Value  \n",
       "0     tonnes of active ingredients   121.00  \n",
       "1     tonnes of active ingredients   121.00  \n",
       "2     tonnes of active ingredients   121.00  \n",
       "3     tonnes of active ingredients   121.00  \n",
       "4     tonnes of active ingredients   201.00  \n",
       "...                            ...      ...  \n",
       "4344  tonnes of active ingredients  3375.53  \n",
       "4345  tonnes of active ingredients  2550.07  \n",
       "4346  tonnes of active ingredients  2185.07  \n",
       "4347  tonnes of active ingredients  2185.07  \n",
       "4348  tonnes of active ingredients  2185.07  \n",
       "\n",
       "[4349 rows x 7 columns]>"
      ]
     },
     "execution_count": 11,
     "metadata": {},
     "output_type": "execute_result"
    }
   ],
   "source": [
    "df.head"
   ]
  },
  {
   "cell_type": "code",
   "execution_count": 12,
   "id": "694381ed",
   "metadata": {},
   "outputs": [
    {
     "data": {
      "text/plain": [
       "Domain      object\n",
       "Area        object\n",
       "Element     object\n",
       "Item        object\n",
       "Year         int64\n",
       "Unit        object\n",
       "Value      float64\n",
       "dtype: object"
      ]
     },
     "execution_count": 12,
     "metadata": {},
     "output_type": "execute_result"
    }
   ],
   "source": [
    "df.dtypes"
   ]
  },
  {
   "cell_type": "code",
   "execution_count": 13,
   "id": "e427ed6b",
   "metadata": {},
   "outputs": [
    {
     "data": {
      "text/plain": [
       "Domain     0\n",
       "Area       0\n",
       "Element    0\n",
       "Item       0\n",
       "Year       0\n",
       "Unit       0\n",
       "Value      0\n",
       "dtype: int64"
      ]
     },
     "execution_count": 13,
     "metadata": {},
     "output_type": "execute_result"
    }
   ],
   "source": [
    "df.isnull().sum()"
   ]
  },
  {
   "cell_type": "code",
   "execution_count": 14,
   "id": "3c1f7f51",
   "metadata": {},
   "outputs": [
    {
     "ename": "SyntaxError",
     "evalue": "invalid syntax (4147243635.py, line 1)",
     "output_type": "error",
     "traceback": [
      "\u001b[1;36m  Input \u001b[1;32mIn [14]\u001b[1;36m\u001b[0m\n\u001b[1;33m    df.isnull().sum().sum()df.dropna\u001b[0m\n\u001b[1;37m                           ^\u001b[0m\n\u001b[1;31mSyntaxError\u001b[0m\u001b[1;31m:\u001b[0m invalid syntax\n"
     ]
    }
   ],
   "source": [
    "df.isnull().sum().sum()df.dropna"
   ]
  },
  {
   "cell_type": "code",
   "execution_count": 15,
   "id": "2d081dbc",
   "metadata": {},
   "outputs": [
    {
     "data": {
      "text/html": [
       "<div>\n",
       "<style scoped>\n",
       "    .dataframe tbody tr th:only-of-type {\n",
       "        vertical-align: middle;\n",
       "    }\n",
       "\n",
       "    .dataframe tbody tr th {\n",
       "        vertical-align: top;\n",
       "    }\n",
       "\n",
       "    .dataframe thead th {\n",
       "        text-align: right;\n",
       "    }\n",
       "</style>\n",
       "<table border=\"1\" class=\"dataframe\">\n",
       "  <thead>\n",
       "    <tr style=\"text-align: right;\">\n",
       "      <th></th>\n",
       "      <th>Domain</th>\n",
       "      <th>Area</th>\n",
       "      <th>Element</th>\n",
       "      <th>Item</th>\n",
       "      <th>Year</th>\n",
       "      <th>Unit</th>\n",
       "      <th>Value</th>\n",
       "    </tr>\n",
       "  </thead>\n",
       "  <tbody>\n",
       "    <tr>\n",
       "      <th>0</th>\n",
       "      <td>Pesticides Use</td>\n",
       "      <td>Albania</td>\n",
       "      <td>Use</td>\n",
       "      <td>Pesticides (total)</td>\n",
       "      <td>1990</td>\n",
       "      <td>tonnes of active ingredients</td>\n",
       "      <td>121.00</td>\n",
       "    </tr>\n",
       "    <tr>\n",
       "      <th>1</th>\n",
       "      <td>Pesticides Use</td>\n",
       "      <td>Albania</td>\n",
       "      <td>Use</td>\n",
       "      <td>Pesticides (total)</td>\n",
       "      <td>1991</td>\n",
       "      <td>tonnes of active ingredients</td>\n",
       "      <td>121.00</td>\n",
       "    </tr>\n",
       "    <tr>\n",
       "      <th>2</th>\n",
       "      <td>Pesticides Use</td>\n",
       "      <td>Albania</td>\n",
       "      <td>Use</td>\n",
       "      <td>Pesticides (total)</td>\n",
       "      <td>1992</td>\n",
       "      <td>tonnes of active ingredients</td>\n",
       "      <td>121.00</td>\n",
       "    </tr>\n",
       "    <tr>\n",
       "      <th>3</th>\n",
       "      <td>Pesticides Use</td>\n",
       "      <td>Albania</td>\n",
       "      <td>Use</td>\n",
       "      <td>Pesticides (total)</td>\n",
       "      <td>1993</td>\n",
       "      <td>tonnes of active ingredients</td>\n",
       "      <td>121.00</td>\n",
       "    </tr>\n",
       "    <tr>\n",
       "      <th>4</th>\n",
       "      <td>Pesticides Use</td>\n",
       "      <td>Albania</td>\n",
       "      <td>Use</td>\n",
       "      <td>Pesticides (total)</td>\n",
       "      <td>1994</td>\n",
       "      <td>tonnes of active ingredients</td>\n",
       "      <td>201.00</td>\n",
       "    </tr>\n",
       "    <tr>\n",
       "      <th>...</th>\n",
       "      <td>...</td>\n",
       "      <td>...</td>\n",
       "      <td>...</td>\n",
       "      <td>...</td>\n",
       "      <td>...</td>\n",
       "      <td>...</td>\n",
       "      <td>...</td>\n",
       "    </tr>\n",
       "    <tr>\n",
       "      <th>4344</th>\n",
       "      <td>Pesticides Use</td>\n",
       "      <td>Zimbabwe</td>\n",
       "      <td>Use</td>\n",
       "      <td>Pesticides (total)</td>\n",
       "      <td>2012</td>\n",
       "      <td>tonnes of active ingredients</td>\n",
       "      <td>3375.53</td>\n",
       "    </tr>\n",
       "    <tr>\n",
       "      <th>4345</th>\n",
       "      <td>Pesticides Use</td>\n",
       "      <td>Zimbabwe</td>\n",
       "      <td>Use</td>\n",
       "      <td>Pesticides (total)</td>\n",
       "      <td>2013</td>\n",
       "      <td>tonnes of active ingredients</td>\n",
       "      <td>2550.07</td>\n",
       "    </tr>\n",
       "    <tr>\n",
       "      <th>4346</th>\n",
       "      <td>Pesticides Use</td>\n",
       "      <td>Zimbabwe</td>\n",
       "      <td>Use</td>\n",
       "      <td>Pesticides (total)</td>\n",
       "      <td>2014</td>\n",
       "      <td>tonnes of active ingredients</td>\n",
       "      <td>2185.07</td>\n",
       "    </tr>\n",
       "    <tr>\n",
       "      <th>4347</th>\n",
       "      <td>Pesticides Use</td>\n",
       "      <td>Zimbabwe</td>\n",
       "      <td>Use</td>\n",
       "      <td>Pesticides (total)</td>\n",
       "      <td>2015</td>\n",
       "      <td>tonnes of active ingredients</td>\n",
       "      <td>2185.07</td>\n",
       "    </tr>\n",
       "    <tr>\n",
       "      <th>4348</th>\n",
       "      <td>Pesticides Use</td>\n",
       "      <td>Zimbabwe</td>\n",
       "      <td>Use</td>\n",
       "      <td>Pesticides (total)</td>\n",
       "      <td>2016</td>\n",
       "      <td>tonnes of active ingredients</td>\n",
       "      <td>2185.07</td>\n",
       "    </tr>\n",
       "  </tbody>\n",
       "</table>\n",
       "<p>4349 rows × 7 columns</p>\n",
       "</div>"
      ],
      "text/plain": [
       "              Domain      Area Element                Item  Year  \\\n",
       "0     Pesticides Use   Albania     Use  Pesticides (total)  1990   \n",
       "1     Pesticides Use   Albania     Use  Pesticides (total)  1991   \n",
       "2     Pesticides Use   Albania     Use  Pesticides (total)  1992   \n",
       "3     Pesticides Use   Albania     Use  Pesticides (total)  1993   \n",
       "4     Pesticides Use   Albania     Use  Pesticides (total)  1994   \n",
       "...              ...       ...     ...                 ...   ...   \n",
       "4344  Pesticides Use  Zimbabwe     Use  Pesticides (total)  2012   \n",
       "4345  Pesticides Use  Zimbabwe     Use  Pesticides (total)  2013   \n",
       "4346  Pesticides Use  Zimbabwe     Use  Pesticides (total)  2014   \n",
       "4347  Pesticides Use  Zimbabwe     Use  Pesticides (total)  2015   \n",
       "4348  Pesticides Use  Zimbabwe     Use  Pesticides (total)  2016   \n",
       "\n",
       "                              Unit    Value  \n",
       "0     tonnes of active ingredients   121.00  \n",
       "1     tonnes of active ingredients   121.00  \n",
       "2     tonnes of active ingredients   121.00  \n",
       "3     tonnes of active ingredients   121.00  \n",
       "4     tonnes of active ingredients   201.00  \n",
       "...                            ...      ...  \n",
       "4344  tonnes of active ingredients  3375.53  \n",
       "4345  tonnes of active ingredients  2550.07  \n",
       "4346  tonnes of active ingredients  2185.07  \n",
       "4347  tonnes of active ingredients  2185.07  \n",
       "4348  tonnes of active ingredients  2185.07  \n",
       "\n",
       "[4349 rows x 7 columns]"
      ]
     },
     "execution_count": 15,
     "metadata": {},
     "output_type": "execute_result"
    }
   ],
   "source": [
    "df1=df.dropna()\n",
    "df1"
   ]
  },
  {
   "cell_type": "code",
   "execution_count": 17,
   "id": "5ca15a00",
   "metadata": {},
   "outputs": [
    {
     "data": {
      "text/html": [
       "<div>\n",
       "<style scoped>\n",
       "    .dataframe tbody tr th:only-of-type {\n",
       "        vertical-align: middle;\n",
       "    }\n",
       "\n",
       "    .dataframe tbody tr th {\n",
       "        vertical-align: top;\n",
       "    }\n",
       "\n",
       "    .dataframe thead th {\n",
       "        text-align: right;\n",
       "    }\n",
       "</style>\n",
       "<table border=\"1\" class=\"dataframe\">\n",
       "  <thead>\n",
       "    <tr style=\"text-align: right;\">\n",
       "      <th></th>\n",
       "      <th>index</th>\n",
       "      <th>Domain</th>\n",
       "      <th>Area</th>\n",
       "      <th>Element</th>\n",
       "      <th>Item</th>\n",
       "      <th>Year</th>\n",
       "      <th>Unit</th>\n",
       "      <th>Value</th>\n",
       "    </tr>\n",
       "  </thead>\n",
       "  <tbody>\n",
       "    <tr>\n",
       "      <th>0</th>\n",
       "      <td>0</td>\n",
       "      <td>Pesticides Use</td>\n",
       "      <td>Albania</td>\n",
       "      <td>Use</td>\n",
       "      <td>Pesticides (total)</td>\n",
       "      <td>1990</td>\n",
       "      <td>tonnes of active ingredients</td>\n",
       "      <td>121.00</td>\n",
       "    </tr>\n",
       "    <tr>\n",
       "      <th>1</th>\n",
       "      <td>1</td>\n",
       "      <td>Pesticides Use</td>\n",
       "      <td>Albania</td>\n",
       "      <td>Use</td>\n",
       "      <td>Pesticides (total)</td>\n",
       "      <td>1991</td>\n",
       "      <td>tonnes of active ingredients</td>\n",
       "      <td>121.00</td>\n",
       "    </tr>\n",
       "    <tr>\n",
       "      <th>2</th>\n",
       "      <td>2</td>\n",
       "      <td>Pesticides Use</td>\n",
       "      <td>Albania</td>\n",
       "      <td>Use</td>\n",
       "      <td>Pesticides (total)</td>\n",
       "      <td>1992</td>\n",
       "      <td>tonnes of active ingredients</td>\n",
       "      <td>121.00</td>\n",
       "    </tr>\n",
       "    <tr>\n",
       "      <th>3</th>\n",
       "      <td>3</td>\n",
       "      <td>Pesticides Use</td>\n",
       "      <td>Albania</td>\n",
       "      <td>Use</td>\n",
       "      <td>Pesticides (total)</td>\n",
       "      <td>1993</td>\n",
       "      <td>tonnes of active ingredients</td>\n",
       "      <td>121.00</td>\n",
       "    </tr>\n",
       "    <tr>\n",
       "      <th>4</th>\n",
       "      <td>4</td>\n",
       "      <td>Pesticides Use</td>\n",
       "      <td>Albania</td>\n",
       "      <td>Use</td>\n",
       "      <td>Pesticides (total)</td>\n",
       "      <td>1994</td>\n",
       "      <td>tonnes of active ingredients</td>\n",
       "      <td>201.00</td>\n",
       "    </tr>\n",
       "    <tr>\n",
       "      <th>...</th>\n",
       "      <td>...</td>\n",
       "      <td>...</td>\n",
       "      <td>...</td>\n",
       "      <td>...</td>\n",
       "      <td>...</td>\n",
       "      <td>...</td>\n",
       "      <td>...</td>\n",
       "      <td>...</td>\n",
       "    </tr>\n",
       "    <tr>\n",
       "      <th>4344</th>\n",
       "      <td>4344</td>\n",
       "      <td>Pesticides Use</td>\n",
       "      <td>Zimbabwe</td>\n",
       "      <td>Use</td>\n",
       "      <td>Pesticides (total)</td>\n",
       "      <td>2012</td>\n",
       "      <td>tonnes of active ingredients</td>\n",
       "      <td>3375.53</td>\n",
       "    </tr>\n",
       "    <tr>\n",
       "      <th>4345</th>\n",
       "      <td>4345</td>\n",
       "      <td>Pesticides Use</td>\n",
       "      <td>Zimbabwe</td>\n",
       "      <td>Use</td>\n",
       "      <td>Pesticides (total)</td>\n",
       "      <td>2013</td>\n",
       "      <td>tonnes of active ingredients</td>\n",
       "      <td>2550.07</td>\n",
       "    </tr>\n",
       "    <tr>\n",
       "      <th>4346</th>\n",
       "      <td>4346</td>\n",
       "      <td>Pesticides Use</td>\n",
       "      <td>Zimbabwe</td>\n",
       "      <td>Use</td>\n",
       "      <td>Pesticides (total)</td>\n",
       "      <td>2014</td>\n",
       "      <td>tonnes of active ingredients</td>\n",
       "      <td>2185.07</td>\n",
       "    </tr>\n",
       "    <tr>\n",
       "      <th>4347</th>\n",
       "      <td>4347</td>\n",
       "      <td>Pesticides Use</td>\n",
       "      <td>Zimbabwe</td>\n",
       "      <td>Use</td>\n",
       "      <td>Pesticides (total)</td>\n",
       "      <td>2015</td>\n",
       "      <td>tonnes of active ingredients</td>\n",
       "      <td>2185.07</td>\n",
       "    </tr>\n",
       "    <tr>\n",
       "      <th>4348</th>\n",
       "      <td>4348</td>\n",
       "      <td>Pesticides Use</td>\n",
       "      <td>Zimbabwe</td>\n",
       "      <td>Use</td>\n",
       "      <td>Pesticides (total)</td>\n",
       "      <td>2016</td>\n",
       "      <td>tonnes of active ingredients</td>\n",
       "      <td>2185.07</td>\n",
       "    </tr>\n",
       "  </tbody>\n",
       "</table>\n",
       "<p>4349 rows × 8 columns</p>\n",
       "</div>"
      ],
      "text/plain": [
       "      index          Domain      Area Element                Item  Year  \\\n",
       "0         0  Pesticides Use   Albania     Use  Pesticides (total)  1990   \n",
       "1         1  Pesticides Use   Albania     Use  Pesticides (total)  1991   \n",
       "2         2  Pesticides Use   Albania     Use  Pesticides (total)  1992   \n",
       "3         3  Pesticides Use   Albania     Use  Pesticides (total)  1993   \n",
       "4         4  Pesticides Use   Albania     Use  Pesticides (total)  1994   \n",
       "...     ...             ...       ...     ...                 ...   ...   \n",
       "4344   4344  Pesticides Use  Zimbabwe     Use  Pesticides (total)  2012   \n",
       "4345   4345  Pesticides Use  Zimbabwe     Use  Pesticides (total)  2013   \n",
       "4346   4346  Pesticides Use  Zimbabwe     Use  Pesticides (total)  2014   \n",
       "4347   4347  Pesticides Use  Zimbabwe     Use  Pesticides (total)  2015   \n",
       "4348   4348  Pesticides Use  Zimbabwe     Use  Pesticides (total)  2016   \n",
       "\n",
       "                              Unit    Value  \n",
       "0     tonnes of active ingredients   121.00  \n",
       "1     tonnes of active ingredients   121.00  \n",
       "2     tonnes of active ingredients   121.00  \n",
       "3     tonnes of active ingredients   121.00  \n",
       "4     tonnes of active ingredients   201.00  \n",
       "...                            ...      ...  \n",
       "4344  tonnes of active ingredients  3375.53  \n",
       "4345  tonnes of active ingredients  2550.07  \n",
       "4346  tonnes of active ingredients  2185.07  \n",
       "4347  tonnes of active ingredients  2185.07  \n",
       "4348  tonnes of active ingredients  2185.07  \n",
       "\n",
       "[4349 rows x 8 columns]"
      ]
     },
     "execution_count": 17,
     "metadata": {},
     "output_type": "execute_result"
    }
   ],
   "source": [
    "df1.reset_index()"
   ]
  },
  {
   "cell_type": "code",
   "execution_count": 18,
   "id": "873175a2",
   "metadata": {},
   "outputs": [
    {
     "data": {
      "text/html": [
       "<div>\n",
       "<style scoped>\n",
       "    .dataframe tbody tr th:only-of-type {\n",
       "        vertical-align: middle;\n",
       "    }\n",
       "\n",
       "    .dataframe tbody tr th {\n",
       "        vertical-align: top;\n",
       "    }\n",
       "\n",
       "    .dataframe thead th {\n",
       "        text-align: right;\n",
       "    }\n",
       "</style>\n",
       "<table border=\"1\" class=\"dataframe\">\n",
       "  <thead>\n",
       "    <tr style=\"text-align: right;\">\n",
       "      <th></th>\n",
       "      <th>Domain</th>\n",
       "      <th>Area</th>\n",
       "      <th>Element</th>\n",
       "      <th>Item</th>\n",
       "      <th>Year</th>\n",
       "      <th>Unit</th>\n",
       "      <th>Value</th>\n",
       "    </tr>\n",
       "  </thead>\n",
       "  <tbody>\n",
       "    <tr>\n",
       "      <th>0</th>\n",
       "      <td>Pesticides Use</td>\n",
       "      <td>Albania</td>\n",
       "      <td>Use</td>\n",
       "      <td>Pesticides (total)</td>\n",
       "      <td>1990</td>\n",
       "      <td>tonnes of active ingredients</td>\n",
       "      <td>121.00</td>\n",
       "    </tr>\n",
       "    <tr>\n",
       "      <th>1</th>\n",
       "      <td>Pesticides Use</td>\n",
       "      <td>Albania</td>\n",
       "      <td>Use</td>\n",
       "      <td>Pesticides (total)</td>\n",
       "      <td>1991</td>\n",
       "      <td>tonnes of active ingredients</td>\n",
       "      <td>121.00</td>\n",
       "    </tr>\n",
       "    <tr>\n",
       "      <th>2</th>\n",
       "      <td>Pesticides Use</td>\n",
       "      <td>Albania</td>\n",
       "      <td>Use</td>\n",
       "      <td>Pesticides (total)</td>\n",
       "      <td>1992</td>\n",
       "      <td>tonnes of active ingredients</td>\n",
       "      <td>121.00</td>\n",
       "    </tr>\n",
       "    <tr>\n",
       "      <th>3</th>\n",
       "      <td>Pesticides Use</td>\n",
       "      <td>Albania</td>\n",
       "      <td>Use</td>\n",
       "      <td>Pesticides (total)</td>\n",
       "      <td>1993</td>\n",
       "      <td>tonnes of active ingredients</td>\n",
       "      <td>121.00</td>\n",
       "    </tr>\n",
       "    <tr>\n",
       "      <th>4</th>\n",
       "      <td>Pesticides Use</td>\n",
       "      <td>Albania</td>\n",
       "      <td>Use</td>\n",
       "      <td>Pesticides (total)</td>\n",
       "      <td>1994</td>\n",
       "      <td>tonnes of active ingredients</td>\n",
       "      <td>201.00</td>\n",
       "    </tr>\n",
       "    <tr>\n",
       "      <th>...</th>\n",
       "      <td>...</td>\n",
       "      <td>...</td>\n",
       "      <td>...</td>\n",
       "      <td>...</td>\n",
       "      <td>...</td>\n",
       "      <td>...</td>\n",
       "      <td>...</td>\n",
       "    </tr>\n",
       "    <tr>\n",
       "      <th>4344</th>\n",
       "      <td>Pesticides Use</td>\n",
       "      <td>Zimbabwe</td>\n",
       "      <td>Use</td>\n",
       "      <td>Pesticides (total)</td>\n",
       "      <td>2012</td>\n",
       "      <td>tonnes of active ingredients</td>\n",
       "      <td>3375.53</td>\n",
       "    </tr>\n",
       "    <tr>\n",
       "      <th>4345</th>\n",
       "      <td>Pesticides Use</td>\n",
       "      <td>Zimbabwe</td>\n",
       "      <td>Use</td>\n",
       "      <td>Pesticides (total)</td>\n",
       "      <td>2013</td>\n",
       "      <td>tonnes of active ingredients</td>\n",
       "      <td>2550.07</td>\n",
       "    </tr>\n",
       "    <tr>\n",
       "      <th>4346</th>\n",
       "      <td>Pesticides Use</td>\n",
       "      <td>Zimbabwe</td>\n",
       "      <td>Use</td>\n",
       "      <td>Pesticides (total)</td>\n",
       "      <td>2014</td>\n",
       "      <td>tonnes of active ingredients</td>\n",
       "      <td>2185.07</td>\n",
       "    </tr>\n",
       "    <tr>\n",
       "      <th>4347</th>\n",
       "      <td>Pesticides Use</td>\n",
       "      <td>Zimbabwe</td>\n",
       "      <td>Use</td>\n",
       "      <td>Pesticides (total)</td>\n",
       "      <td>2015</td>\n",
       "      <td>tonnes of active ingredients</td>\n",
       "      <td>2185.07</td>\n",
       "    </tr>\n",
       "    <tr>\n",
       "      <th>4348</th>\n",
       "      <td>Pesticides Use</td>\n",
       "      <td>Zimbabwe</td>\n",
       "      <td>Use</td>\n",
       "      <td>Pesticides (total)</td>\n",
       "      <td>2016</td>\n",
       "      <td>tonnes of active ingredients</td>\n",
       "      <td>2185.07</td>\n",
       "    </tr>\n",
       "  </tbody>\n",
       "</table>\n",
       "<p>4349 rows × 7 columns</p>\n",
       "</div>"
      ],
      "text/plain": [
       "              Domain      Area Element                Item  Year  \\\n",
       "0     Pesticides Use   Albania     Use  Pesticides (total)  1990   \n",
       "1     Pesticides Use   Albania     Use  Pesticides (total)  1991   \n",
       "2     Pesticides Use   Albania     Use  Pesticides (total)  1992   \n",
       "3     Pesticides Use   Albania     Use  Pesticides (total)  1993   \n",
       "4     Pesticides Use   Albania     Use  Pesticides (total)  1994   \n",
       "...              ...       ...     ...                 ...   ...   \n",
       "4344  Pesticides Use  Zimbabwe     Use  Pesticides (total)  2012   \n",
       "4345  Pesticides Use  Zimbabwe     Use  Pesticides (total)  2013   \n",
       "4346  Pesticides Use  Zimbabwe     Use  Pesticides (total)  2014   \n",
       "4347  Pesticides Use  Zimbabwe     Use  Pesticides (total)  2015   \n",
       "4348  Pesticides Use  Zimbabwe     Use  Pesticides (total)  2016   \n",
       "\n",
       "                              Unit    Value  \n",
       "0     tonnes of active ingredients   121.00  \n",
       "1     tonnes of active ingredients   121.00  \n",
       "2     tonnes of active ingredients   121.00  \n",
       "3     tonnes of active ingredients   121.00  \n",
       "4     tonnes of active ingredients   201.00  \n",
       "...                            ...      ...  \n",
       "4344  tonnes of active ingredients  3375.53  \n",
       "4345  tonnes of active ingredients  2550.07  \n",
       "4346  tonnes of active ingredients  2185.07  \n",
       "4347  tonnes of active ingredients  2185.07  \n",
       "4348  tonnes of active ingredients  2185.07  \n",
       "\n",
       "[4349 rows x 7 columns]"
      ]
     },
     "execution_count": 18,
     "metadata": {},
     "output_type": "execute_result"
    }
   ],
   "source": [
    "df1.reset_index(drop=True)"
   ]
  },
  {
   "cell_type": "code",
   "execution_count": 19,
   "id": "edd9ed7c",
   "metadata": {},
   "outputs": [
    {
     "data": {
      "text/html": [
       "<div>\n",
       "<style scoped>\n",
       "    .dataframe tbody tr th:only-of-type {\n",
       "        vertical-align: middle;\n",
       "    }\n",
       "\n",
       "    .dataframe tbody tr th {\n",
       "        vertical-align: top;\n",
       "    }\n",
       "\n",
       "    .dataframe thead th {\n",
       "        text-align: right;\n",
       "    }\n",
       "</style>\n",
       "<table border=\"1\" class=\"dataframe\">\n",
       "  <thead>\n",
       "    <tr style=\"text-align: right;\">\n",
       "      <th></th>\n",
       "      <th>Domain</th>\n",
       "      <th>Area</th>\n",
       "      <th>Element</th>\n",
       "      <th>Item</th>\n",
       "      <th>Year</th>\n",
       "      <th>Unit</th>\n",
       "      <th>Value</th>\n",
       "    </tr>\n",
       "  </thead>\n",
       "  <tbody>\n",
       "    <tr>\n",
       "      <th>0</th>\n",
       "      <td>Pesticides Use</td>\n",
       "      <td>Albania</td>\n",
       "      <td>Use</td>\n",
       "      <td>Pesticides (total)</td>\n",
       "      <td>1990</td>\n",
       "      <td>tonnes of active ingredients</td>\n",
       "      <td>121.00</td>\n",
       "    </tr>\n",
       "    <tr>\n",
       "      <th>1</th>\n",
       "      <td>Pesticides Use</td>\n",
       "      <td>Albania</td>\n",
       "      <td>Use</td>\n",
       "      <td>Pesticides (total)</td>\n",
       "      <td>1991</td>\n",
       "      <td>tonnes of active ingredients</td>\n",
       "      <td>121.00</td>\n",
       "    </tr>\n",
       "    <tr>\n",
       "      <th>2</th>\n",
       "      <td>Pesticides Use</td>\n",
       "      <td>Albania</td>\n",
       "      <td>Use</td>\n",
       "      <td>Pesticides (total)</td>\n",
       "      <td>1992</td>\n",
       "      <td>tonnes of active ingredients</td>\n",
       "      <td>121.00</td>\n",
       "    </tr>\n",
       "    <tr>\n",
       "      <th>3</th>\n",
       "      <td>Pesticides Use</td>\n",
       "      <td>Albania</td>\n",
       "      <td>Use</td>\n",
       "      <td>Pesticides (total)</td>\n",
       "      <td>1993</td>\n",
       "      <td>tonnes of active ingredients</td>\n",
       "      <td>121.00</td>\n",
       "    </tr>\n",
       "    <tr>\n",
       "      <th>4</th>\n",
       "      <td>Pesticides Use</td>\n",
       "      <td>Albania</td>\n",
       "      <td>Use</td>\n",
       "      <td>Pesticides (total)</td>\n",
       "      <td>1994</td>\n",
       "      <td>tonnes of active ingredients</td>\n",
       "      <td>201.00</td>\n",
       "    </tr>\n",
       "    <tr>\n",
       "      <th>...</th>\n",
       "      <td>...</td>\n",
       "      <td>...</td>\n",
       "      <td>...</td>\n",
       "      <td>...</td>\n",
       "      <td>...</td>\n",
       "      <td>...</td>\n",
       "      <td>...</td>\n",
       "    </tr>\n",
       "    <tr>\n",
       "      <th>4344</th>\n",
       "      <td>Pesticides Use</td>\n",
       "      <td>Zimbabwe</td>\n",
       "      <td>Use</td>\n",
       "      <td>Pesticides (total)</td>\n",
       "      <td>2012</td>\n",
       "      <td>tonnes of active ingredients</td>\n",
       "      <td>3375.53</td>\n",
       "    </tr>\n",
       "    <tr>\n",
       "      <th>4345</th>\n",
       "      <td>Pesticides Use</td>\n",
       "      <td>Zimbabwe</td>\n",
       "      <td>Use</td>\n",
       "      <td>Pesticides (total)</td>\n",
       "      <td>2013</td>\n",
       "      <td>tonnes of active ingredients</td>\n",
       "      <td>2550.07</td>\n",
       "    </tr>\n",
       "    <tr>\n",
       "      <th>4346</th>\n",
       "      <td>Pesticides Use</td>\n",
       "      <td>Zimbabwe</td>\n",
       "      <td>Use</td>\n",
       "      <td>Pesticides (total)</td>\n",
       "      <td>2014</td>\n",
       "      <td>tonnes of active ingredients</td>\n",
       "      <td>2185.07</td>\n",
       "    </tr>\n",
       "    <tr>\n",
       "      <th>4347</th>\n",
       "      <td>Pesticides Use</td>\n",
       "      <td>Zimbabwe</td>\n",
       "      <td>Use</td>\n",
       "      <td>Pesticides (total)</td>\n",
       "      <td>2015</td>\n",
       "      <td>tonnes of active ingredients</td>\n",
       "      <td>2185.07</td>\n",
       "    </tr>\n",
       "    <tr>\n",
       "      <th>4348</th>\n",
       "      <td>Pesticides Use</td>\n",
       "      <td>Zimbabwe</td>\n",
       "      <td>Use</td>\n",
       "      <td>Pesticides (total)</td>\n",
       "      <td>2016</td>\n",
       "      <td>tonnes of active ingredients</td>\n",
       "      <td>2185.07</td>\n",
       "    </tr>\n",
       "  </tbody>\n",
       "</table>\n",
       "<p>4349 rows × 7 columns</p>\n",
       "</div>"
      ],
      "text/plain": [
       "              Domain      Area Element                Item  Year  \\\n",
       "0     Pesticides Use   Albania     Use  Pesticides (total)  1990   \n",
       "1     Pesticides Use   Albania     Use  Pesticides (total)  1991   \n",
       "2     Pesticides Use   Albania     Use  Pesticides (total)  1992   \n",
       "3     Pesticides Use   Albania     Use  Pesticides (total)  1993   \n",
       "4     Pesticides Use   Albania     Use  Pesticides (total)  1994   \n",
       "...              ...       ...     ...                 ...   ...   \n",
       "4344  Pesticides Use  Zimbabwe     Use  Pesticides (total)  2012   \n",
       "4345  Pesticides Use  Zimbabwe     Use  Pesticides (total)  2013   \n",
       "4346  Pesticides Use  Zimbabwe     Use  Pesticides (total)  2014   \n",
       "4347  Pesticides Use  Zimbabwe     Use  Pesticides (total)  2015   \n",
       "4348  Pesticides Use  Zimbabwe     Use  Pesticides (total)  2016   \n",
       "\n",
       "                              Unit    Value  \n",
       "0     tonnes of active ingredients   121.00  \n",
       "1     tonnes of active ingredients   121.00  \n",
       "2     tonnes of active ingredients   121.00  \n",
       "3     tonnes of active ingredients   121.00  \n",
       "4     tonnes of active ingredients   201.00  \n",
       "...                            ...      ...  \n",
       "4344  tonnes of active ingredients  3375.53  \n",
       "4345  tonnes of active ingredients  2550.07  \n",
       "4346  tonnes of active ingredients  2185.07  \n",
       "4347  tonnes of active ingredients  2185.07  \n",
       "4348  tonnes of active ingredients  2185.07  \n",
       "\n",
       "[4349 rows x 7 columns]"
      ]
     },
     "execution_count": 19,
     "metadata": {},
     "output_type": "execute_result"
    }
   ],
   "source": [
    "df.fillna(5)"
   ]
  },
  {
   "cell_type": "code",
   "execution_count": 20,
   "id": "e4619b8e",
   "metadata": {},
   "outputs": [
    {
     "data": {
      "text/plain": [
       "Index(['Domain', 'Area', 'Element', 'Item', 'Year', 'Unit', 'Value'], dtype='object')"
      ]
     },
     "execution_count": 20,
     "metadata": {},
     "output_type": "execute_result"
    }
   ],
   "source": [
    "df.columns"
   ]
  },
  {
   "cell_type": "code",
   "execution_count": 21,
   "id": "53c7c5fd",
   "metadata": {},
   "outputs": [
    {
     "data": {
      "text/html": [
       "<div>\n",
       "<style scoped>\n",
       "    .dataframe tbody tr th:only-of-type {\n",
       "        vertical-align: middle;\n",
       "    }\n",
       "\n",
       "    .dataframe tbody tr th {\n",
       "        vertical-align: top;\n",
       "    }\n",
       "\n",
       "    .dataframe thead th {\n",
       "        text-align: right;\n",
       "    }\n",
       "</style>\n",
       "<table border=\"1\" class=\"dataframe\">\n",
       "  <thead>\n",
       "    <tr style=\"text-align: right;\">\n",
       "      <th></th>\n",
       "      <th>Year</th>\n",
       "      <th>Value</th>\n",
       "    </tr>\n",
       "  </thead>\n",
       "  <tbody>\n",
       "    <tr>\n",
       "      <th>count</th>\n",
       "      <td>4349.000000</td>\n",
       "      <td>4.349000e+03</td>\n",
       "    </tr>\n",
       "    <tr>\n",
       "      <th>mean</th>\n",
       "      <td>2003.138883</td>\n",
       "      <td>2.030334e+04</td>\n",
       "    </tr>\n",
       "    <tr>\n",
       "      <th>std</th>\n",
       "      <td>7.728044</td>\n",
       "      <td>1.177362e+05</td>\n",
       "    </tr>\n",
       "    <tr>\n",
       "      <th>min</th>\n",
       "      <td>1990.000000</td>\n",
       "      <td>0.000000e+00</td>\n",
       "    </tr>\n",
       "    <tr>\n",
       "      <th>25%</th>\n",
       "      <td>1996.000000</td>\n",
       "      <td>9.300000e+01</td>\n",
       "    </tr>\n",
       "    <tr>\n",
       "      <th>50%</th>\n",
       "      <td>2003.000000</td>\n",
       "      <td>1.137560e+03</td>\n",
       "    </tr>\n",
       "    <tr>\n",
       "      <th>75%</th>\n",
       "      <td>2010.000000</td>\n",
       "      <td>7.869000e+03</td>\n",
       "    </tr>\n",
       "    <tr>\n",
       "      <th>max</th>\n",
       "      <td>2016.000000</td>\n",
       "      <td>1.807000e+06</td>\n",
       "    </tr>\n",
       "  </tbody>\n",
       "</table>\n",
       "</div>"
      ],
      "text/plain": [
       "              Year         Value\n",
       "count  4349.000000  4.349000e+03\n",
       "mean   2003.138883  2.030334e+04\n",
       "std       7.728044  1.177362e+05\n",
       "min    1990.000000  0.000000e+00\n",
       "25%    1996.000000  9.300000e+01\n",
       "50%    2003.000000  1.137560e+03\n",
       "75%    2010.000000  7.869000e+03\n",
       "max    2016.000000  1.807000e+06"
      ]
     },
     "execution_count": 21,
     "metadata": {},
     "output_type": "execute_result"
    }
   ],
   "source": [
    "df.describe()"
   ]
  },
  {
   "cell_type": "code",
   "execution_count": 22,
   "id": "cc7334d8",
   "metadata": {},
   "outputs": [
    {
     "data": {
      "text/html": [
       "<div>\n",
       "<style scoped>\n",
       "    .dataframe tbody tr th:only-of-type {\n",
       "        vertical-align: middle;\n",
       "    }\n",
       "\n",
       "    .dataframe tbody tr th {\n",
       "        vertical-align: top;\n",
       "    }\n",
       "\n",
       "    .dataframe thead th {\n",
       "        text-align: right;\n",
       "    }\n",
       "</style>\n",
       "<table border=\"1\" class=\"dataframe\">\n",
       "  <thead>\n",
       "    <tr style=\"text-align: right;\">\n",
       "      <th></th>\n",
       "      <th>count</th>\n",
       "      <th>mean</th>\n",
       "      <th>std</th>\n",
       "      <th>min</th>\n",
       "      <th>25%</th>\n",
       "      <th>50%</th>\n",
       "      <th>75%</th>\n",
       "      <th>max</th>\n",
       "    </tr>\n",
       "  </thead>\n",
       "  <tbody>\n",
       "    <tr>\n",
       "      <th>Year</th>\n",
       "      <td>4349.0</td>\n",
       "      <td>2003.138883</td>\n",
       "      <td>7.728044</td>\n",
       "      <td>1990.0</td>\n",
       "      <td>1996.0</td>\n",
       "      <td>2003.00</td>\n",
       "      <td>2010.0</td>\n",
       "      <td>2016.0</td>\n",
       "    </tr>\n",
       "    <tr>\n",
       "      <th>Value</th>\n",
       "      <td>4349.0</td>\n",
       "      <td>20303.341465</td>\n",
       "      <td>117736.190448</td>\n",
       "      <td>0.0</td>\n",
       "      <td>93.0</td>\n",
       "      <td>1137.56</td>\n",
       "      <td>7869.0</td>\n",
       "      <td>1807000.0</td>\n",
       "    </tr>\n",
       "  </tbody>\n",
       "</table>\n",
       "</div>"
      ],
      "text/plain": [
       "        count          mean            std     min     25%      50%     75%  \\\n",
       "Year   4349.0   2003.138883       7.728044  1990.0  1996.0  2003.00  2010.0   \n",
       "Value  4349.0  20303.341465  117736.190448     0.0    93.0  1137.56  7869.0   \n",
       "\n",
       "             max  \n",
       "Year      2016.0  \n",
       "Value  1807000.0  "
      ]
     },
     "execution_count": 22,
     "metadata": {},
     "output_type": "execute_result"
    }
   ],
   "source": [
    "df.describe().T"
   ]
  },
  {
   "cell_type": "code",
   "execution_count": 23,
   "id": "e470fd9e",
   "metadata": {},
   "outputs": [
    {
     "data": {
      "text/html": [
       "<div>\n",
       "<style scoped>\n",
       "    .dataframe tbody tr th:only-of-type {\n",
       "        vertical-align: middle;\n",
       "    }\n",
       "\n",
       "    .dataframe tbody tr th {\n",
       "        vertical-align: top;\n",
       "    }\n",
       "\n",
       "    .dataframe thead th {\n",
       "        text-align: right;\n",
       "    }\n",
       "</style>\n",
       "<table border=\"1\" class=\"dataframe\">\n",
       "  <thead>\n",
       "    <tr style=\"text-align: right;\">\n",
       "      <th></th>\n",
       "      <th>index</th>\n",
       "      <th>count</th>\n",
       "      <th>mean</th>\n",
       "      <th>std</th>\n",
       "      <th>min</th>\n",
       "      <th>25%</th>\n",
       "      <th>50%</th>\n",
       "      <th>75%</th>\n",
       "      <th>max</th>\n",
       "    </tr>\n",
       "  </thead>\n",
       "  <tbody>\n",
       "    <tr>\n",
       "      <th>0</th>\n",
       "      <td>Year</td>\n",
       "      <td>4349.0</td>\n",
       "      <td>2003.138883</td>\n",
       "      <td>7.728044</td>\n",
       "      <td>1990.0</td>\n",
       "      <td>1996.0</td>\n",
       "      <td>2003.00</td>\n",
       "      <td>2010.0</td>\n",
       "      <td>2016.0</td>\n",
       "    </tr>\n",
       "    <tr>\n",
       "      <th>1</th>\n",
       "      <td>Value</td>\n",
       "      <td>4349.0</td>\n",
       "      <td>20303.341465</td>\n",
       "      <td>117736.190448</td>\n",
       "      <td>0.0</td>\n",
       "      <td>93.0</td>\n",
       "      <td>1137.56</td>\n",
       "      <td>7869.0</td>\n",
       "      <td>1807000.0</td>\n",
       "    </tr>\n",
       "  </tbody>\n",
       "</table>\n",
       "</div>"
      ],
      "text/plain": [
       "   index   count          mean            std     min     25%      50%  \\\n",
       "0   Year  4349.0   2003.138883       7.728044  1990.0  1996.0  2003.00   \n",
       "1  Value  4349.0  20303.341465  117736.190448     0.0    93.0  1137.56   \n",
       "\n",
       "      75%        max  \n",
       "0  2010.0     2016.0  \n",
       "1  7869.0  1807000.0  "
      ]
     },
     "execution_count": 23,
     "metadata": {},
     "output_type": "execute_result"
    }
   ],
   "source": [
    "df.describe().T.reset_index()"
   ]
  },
  {
   "cell_type": "code",
   "execution_count": 24,
   "id": "8a49aaa1",
   "metadata": {},
   "outputs": [],
   "source": [
    "Summary=df.describe().T.reset_index()"
   ]
  },
  {
   "cell_type": "code",
   "execution_count": 25,
   "id": "e38e8bc0",
   "metadata": {},
   "outputs": [
    {
     "data": {
      "text/html": [
       "<div>\n",
       "<style scoped>\n",
       "    .dataframe tbody tr th:only-of-type {\n",
       "        vertical-align: middle;\n",
       "    }\n",
       "\n",
       "    .dataframe tbody tr th {\n",
       "        vertical-align: top;\n",
       "    }\n",
       "\n",
       "    .dataframe thead th {\n",
       "        text-align: right;\n",
       "    }\n",
       "</style>\n",
       "<table border=\"1\" class=\"dataframe\">\n",
       "  <thead>\n",
       "    <tr style=\"text-align: right;\">\n",
       "      <th></th>\n",
       "      <th>index</th>\n",
       "      <th>count</th>\n",
       "      <th>mean</th>\n",
       "      <th>std</th>\n",
       "      <th>min</th>\n",
       "      <th>25%</th>\n",
       "      <th>50%</th>\n",
       "      <th>75%</th>\n",
       "      <th>max</th>\n",
       "      <th>IQR</th>\n",
       "    </tr>\n",
       "  </thead>\n",
       "  <tbody>\n",
       "    <tr>\n",
       "      <th>0</th>\n",
       "      <td>Year</td>\n",
       "      <td>4349.0</td>\n",
       "      <td>2003.138883</td>\n",
       "      <td>7.728044</td>\n",
       "      <td>1990.0</td>\n",
       "      <td>1996.0</td>\n",
       "      <td>2003.00</td>\n",
       "      <td>2010.0</td>\n",
       "      <td>2016.0</td>\n",
       "      <td>14.0</td>\n",
       "    </tr>\n",
       "    <tr>\n",
       "      <th>1</th>\n",
       "      <td>Value</td>\n",
       "      <td>4349.0</td>\n",
       "      <td>20303.341465</td>\n",
       "      <td>117736.190448</td>\n",
       "      <td>0.0</td>\n",
       "      <td>93.0</td>\n",
       "      <td>1137.56</td>\n",
       "      <td>7869.0</td>\n",
       "      <td>1807000.0</td>\n",
       "      <td>7776.0</td>\n",
       "    </tr>\n",
       "  </tbody>\n",
       "</table>\n",
       "</div>"
      ],
      "text/plain": [
       "   index   count          mean            std     min     25%      50%  \\\n",
       "0   Year  4349.0   2003.138883       7.728044  1990.0  1996.0  2003.00   \n",
       "1  Value  4349.0  20303.341465  117736.190448     0.0    93.0  1137.56   \n",
       "\n",
       "      75%        max     IQR  \n",
       "0  2010.0     2016.0    14.0  \n",
       "1  7869.0  1807000.0  7776.0  "
      ]
     },
     "execution_count": 25,
     "metadata": {},
     "output_type": "execute_result"
    }
   ],
   "source": [
    "Summary[\"IQR\"]=Summary[\"75%\"]-Summary[\"25%\"]\n",
    "Summary"
   ]
  },
  {
   "cell_type": "code",
   "execution_count": 26,
   "id": "c881871e",
   "metadata": {},
   "outputs": [
    {
     "data": {
      "text/html": [
       "<div>\n",
       "<style scoped>\n",
       "    .dataframe tbody tr th:only-of-type {\n",
       "        vertical-align: middle;\n",
       "    }\n",
       "\n",
       "    .dataframe tbody tr th {\n",
       "        vertical-align: top;\n",
       "    }\n",
       "\n",
       "    .dataframe thead th {\n",
       "        text-align: right;\n",
       "    }\n",
       "</style>\n",
       "<table border=\"1\" class=\"dataframe\">\n",
       "  <thead>\n",
       "    <tr style=\"text-align: right;\">\n",
       "      <th></th>\n",
       "      <th>index</th>\n",
       "      <th>count</th>\n",
       "      <th>mean</th>\n",
       "      <th>std</th>\n",
       "      <th>min</th>\n",
       "      <th>25%</th>\n",
       "      <th>50%</th>\n",
       "      <th>75%</th>\n",
       "      <th>max</th>\n",
       "      <th>IQR</th>\n",
       "      <th>IW</th>\n",
       "      <th>UW</th>\n",
       "      <th>SkEW</th>\n",
       "      <th>kurtosis</th>\n",
       "    </tr>\n",
       "  </thead>\n",
       "  <tbody>\n",
       "    <tr>\n",
       "      <th>0</th>\n",
       "      <td>Year</td>\n",
       "      <td>4349.0</td>\n",
       "      <td>2003.138883</td>\n",
       "      <td>7.728044</td>\n",
       "      <td>1990.0</td>\n",
       "      <td>1996.0</td>\n",
       "      <td>2003.00</td>\n",
       "      <td>2010.0</td>\n",
       "      <td>2016.0</td>\n",
       "      <td>14.0</td>\n",
       "      <td>1975.0</td>\n",
       "      <td>2031.0</td>\n",
       "      <td>NaN</td>\n",
       "      <td>NaN</td>\n",
       "    </tr>\n",
       "    <tr>\n",
       "      <th>1</th>\n",
       "      <td>Value</td>\n",
       "      <td>4349.0</td>\n",
       "      <td>20303.341465</td>\n",
       "      <td>117736.190448</td>\n",
       "      <td>0.0</td>\n",
       "      <td>93.0</td>\n",
       "      <td>1137.56</td>\n",
       "      <td>7869.0</td>\n",
       "      <td>1807000.0</td>\n",
       "      <td>7776.0</td>\n",
       "      <td>-11571.0</td>\n",
       "      <td>19533.0</td>\n",
       "      <td>NaN</td>\n",
       "      <td>NaN</td>\n",
       "    </tr>\n",
       "  </tbody>\n",
       "</table>\n",
       "</div>"
      ],
      "text/plain": [
       "   index   count          mean            std     min     25%      50%  \\\n",
       "0   Year  4349.0   2003.138883       7.728044  1990.0  1996.0  2003.00   \n",
       "1  Value  4349.0  20303.341465  117736.190448     0.0    93.0  1137.56   \n",
       "\n",
       "      75%        max     IQR       IW       UW  SkEW  kurtosis  \n",
       "0  2010.0     2016.0    14.0   1975.0   2031.0   NaN       NaN  \n",
       "1  7869.0  1807000.0  7776.0 -11571.0  19533.0   NaN       NaN  "
      ]
     },
     "execution_count": 26,
     "metadata": {},
     "output_type": "execute_result"
    }
   ],
   "source": [
    "Summary=df.describe().T.reset_index()\n",
    "Summary[\"IQR\"]=Summary[\"75%\"]-Summary[\"25%\"]\n",
    "Summary[\"IW\"]=Summary[\"25%\"]-1.5*Summary[\"IQR\"]\n",
    "Summary[\"UW\"]=Summary[\"75%\"]+1.5*Summary[\"IQR\"]\n",
    "Summary[\"SkEW\"]=df.select_dtypes(include=\"number\").T.skew()\n",
    "Summary[\"kurtosis\"]=df.select_dtypes(include=\"number\").T.kurt()\n",
    "Summary"
   ]
  },
  {
   "cell_type": "code",
   "execution_count": 27,
   "id": "db22a037",
   "metadata": {},
   "outputs": [
    {
     "data": {
      "text/html": [
       "<div>\n",
       "<style scoped>\n",
       "    .dataframe tbody tr th:only-of-type {\n",
       "        vertical-align: middle;\n",
       "    }\n",
       "\n",
       "    .dataframe tbody tr th {\n",
       "        vertical-align: top;\n",
       "    }\n",
       "\n",
       "    .dataframe thead th {\n",
       "        text-align: right;\n",
       "    }\n",
       "</style>\n",
       "<table border=\"1\" class=\"dataframe\">\n",
       "  <thead>\n",
       "    <tr style=\"text-align: right;\">\n",
       "      <th></th>\n",
       "      <th>0</th>\n",
       "      <th>1</th>\n",
       "    </tr>\n",
       "  </thead>\n",
       "  <tbody>\n",
       "    <tr>\n",
       "      <th>index</th>\n",
       "      <td>Year</td>\n",
       "      <td>Value</td>\n",
       "    </tr>\n",
       "    <tr>\n",
       "      <th>count</th>\n",
       "      <td>4349.0</td>\n",
       "      <td>4349.0</td>\n",
       "    </tr>\n",
       "    <tr>\n",
       "      <th>mean</th>\n",
       "      <td>2003.138883</td>\n",
       "      <td>20303.341465</td>\n",
       "    </tr>\n",
       "    <tr>\n",
       "      <th>std</th>\n",
       "      <td>7.728044</td>\n",
       "      <td>117736.190448</td>\n",
       "    </tr>\n",
       "    <tr>\n",
       "      <th>min</th>\n",
       "      <td>1990.0</td>\n",
       "      <td>0.0</td>\n",
       "    </tr>\n",
       "    <tr>\n",
       "      <th>25%</th>\n",
       "      <td>1996.0</td>\n",
       "      <td>93.0</td>\n",
       "    </tr>\n",
       "    <tr>\n",
       "      <th>50%</th>\n",
       "      <td>2003.0</td>\n",
       "      <td>1137.56</td>\n",
       "    </tr>\n",
       "    <tr>\n",
       "      <th>75%</th>\n",
       "      <td>2010.0</td>\n",
       "      <td>7869.0</td>\n",
       "    </tr>\n",
       "    <tr>\n",
       "      <th>max</th>\n",
       "      <td>2016.0</td>\n",
       "      <td>1807000.0</td>\n",
       "    </tr>\n",
       "    <tr>\n",
       "      <th>IQR</th>\n",
       "      <td>14.0</td>\n",
       "      <td>7776.0</td>\n",
       "    </tr>\n",
       "    <tr>\n",
       "      <th>IW</th>\n",
       "      <td>1975.0</td>\n",
       "      <td>-11571.0</td>\n",
       "    </tr>\n",
       "    <tr>\n",
       "      <th>UW</th>\n",
       "      <td>2031.0</td>\n",
       "      <td>19533.0</td>\n",
       "    </tr>\n",
       "    <tr>\n",
       "      <th>SkEW</th>\n",
       "      <td>NaN</td>\n",
       "      <td>NaN</td>\n",
       "    </tr>\n",
       "    <tr>\n",
       "      <th>kurtosis</th>\n",
       "      <td>NaN</td>\n",
       "      <td>NaN</td>\n",
       "    </tr>\n",
       "    <tr>\n",
       "      <th>varience</th>\n",
       "      <td>59.722658</td>\n",
       "      <td>13861810541.10317</td>\n",
       "    </tr>\n",
       "    <tr>\n",
       "      <th>Range</th>\n",
       "      <td>-1936.277342</td>\n",
       "      <td>13861810448.10317</td>\n",
       "    </tr>\n",
       "  </tbody>\n",
       "</table>\n",
       "</div>"
      ],
      "text/plain": [
       "                    0                  1\n",
       "index            Year              Value\n",
       "count          4349.0             4349.0\n",
       "mean      2003.138883       20303.341465\n",
       "std          7.728044      117736.190448\n",
       "min            1990.0                0.0\n",
       "25%            1996.0               93.0\n",
       "50%            2003.0            1137.56\n",
       "75%            2010.0             7869.0\n",
       "max            2016.0          1807000.0\n",
       "IQR              14.0             7776.0\n",
       "IW             1975.0           -11571.0\n",
       "UW             2031.0            19533.0\n",
       "SkEW              NaN                NaN\n",
       "kurtosis          NaN                NaN\n",
       "varience    59.722658  13861810541.10317\n",
       "Range    -1936.277342  13861810448.10317"
      ]
     },
     "execution_count": 27,
     "metadata": {},
     "output_type": "execute_result"
    }
   ],
   "source": [
    "Summary[\"varience\"]=Summary[\"std\"]**2\n",
    "Summary[\"Range\"]=Summary[max]-Summary[min]\n",
    "\n",
    "Summary.T\n",
    "Summary[\"Range\"]=Summary[max]-Summary[min]\n",
    "\n",
    "Summary.T"
   ]
  },
  {
   "cell_type": "code",
   "execution_count": 29,
   "id": "ee4e0abf",
   "metadata": {},
   "outputs": [
    {
     "data": {
      "text/plain": [
       "Year     0\n",
       "Value    0\n",
       "dtype: int64"
      ]
     },
     "execution_count": 29,
     "metadata": {},
     "output_type": "execute_result"
    }
   ],
   "source": [
    "df.select_dtypes(include=[\"number\"]).isnull().sum()"
   ]
  },
  {
   "cell_type": "code",
   "execution_count": 30,
   "id": "37cf0e48",
   "metadata": {},
   "outputs": [],
   "source": [
    "merged = df.merge(Summary, left_index=True, right_index=True)"
   ]
  },
  {
   "cell_type": "code",
   "execution_count": 31,
   "id": "cceecf42",
   "metadata": {},
   "outputs": [
    {
     "data": {
      "text/plain": [
       "Year     0\n",
       "Value    0\n",
       "Name: null_values, dtype: int64"
      ]
     },
     "execution_count": 31,
     "metadata": {},
     "output_type": "execute_result"
    }
   ],
   "source": [
    "null = pd.Series(df.select_dtypes(include=[\"number\"]).isnull().sum(), name=\"null_values\")\n",
    "null"
   ]
  },
  {
   "cell_type": "code",
   "execution_count": 32,
   "id": "79c7554d",
   "metadata": {},
   "outputs": [
    {
     "data": {
      "text/plain": [
       "Year     0\n",
       "Value    0\n",
       "dtype: int64"
      ]
     },
     "execution_count": 32,
     "metadata": {},
     "output_type": "execute_result"
    }
   ],
   "source": [
    "df.select_dtypes(include=[\"number\"]).isnull().sum()"
   ]
  },
  {
   "cell_type": "code",
   "execution_count": 34,
   "id": "32ef1148",
   "metadata": {},
   "outputs": [
    {
     "data": {
      "text/plain": [
       "Year     0\n",
       "Value    0\n",
       "Name: null_value, dtype: int64"
      ]
     },
     "execution_count": 34,
     "metadata": {},
     "output_type": "execute_result"
    }
   ],
   "source": [
    "pd.Series(df.select_dtypes(include=[\"number\"]).isnull().sum(), name=\"null_value\")"
   ]
  },
  {
   "cell_type": "code",
   "execution_count": 35,
   "id": "1cf7da0c",
   "metadata": {},
   "outputs": [
    {
     "data": {
      "text/html": [
       "<div>\n",
       "<style scoped>\n",
       "    .dataframe tbody tr th:only-of-type {\n",
       "        vertical-align: middle;\n",
       "    }\n",
       "\n",
       "    .dataframe tbody tr th {\n",
       "        vertical-align: top;\n",
       "    }\n",
       "\n",
       "    .dataframe thead th {\n",
       "        text-align: right;\n",
       "    }\n",
       "</style>\n",
       "<table border=\"1\" class=\"dataframe\">\n",
       "  <thead>\n",
       "    <tr style=\"text-align: right;\">\n",
       "      <th></th>\n",
       "      <th>index</th>\n",
       "      <th>count</th>\n",
       "      <th>mean</th>\n",
       "      <th>std</th>\n",
       "      <th>min</th>\n",
       "      <th>25%</th>\n",
       "      <th>50%</th>\n",
       "      <th>75%</th>\n",
       "      <th>max</th>\n",
       "      <th>IQR</th>\n",
       "      <th>IW</th>\n",
       "      <th>UW</th>\n",
       "      <th>SkEW</th>\n",
       "      <th>kurtosis</th>\n",
       "      <th>varience</th>\n",
       "      <th>Range</th>\n",
       "      <th>null_values</th>\n",
       "    </tr>\n",
       "  </thead>\n",
       "  <tbody>\n",
       "  </tbody>\n",
       "</table>\n",
       "</div>"
      ],
      "text/plain": [
       "Empty DataFrame\n",
       "Columns: [index, count, mean, std, min, 25%, 50%, 75%, max, IQR, IW, UW, SkEW, kurtosis, varience, Range, null_values]\n",
       "Index: []"
      ]
     },
     "execution_count": 35,
     "metadata": {},
     "output_type": "execute_result"
    }
   ],
   "source": [
    "pd.merge(Summary,null,left_index=True,right_index=True)"
   ]
  },
  {
   "cell_type": "code",
   "execution_count": 36,
   "id": "93826a56",
   "metadata": {},
   "outputs": [],
   "source": [
    "import pandas as pd\n",
    "import seaborn as sns\n",
    "import matplotlib.pyplot as plt\n",
    "import numpy as np"
   ]
  },
  {
   "cell_type": "code",
   "execution_count": 38,
   "id": "1086e1e6",
   "metadata": {},
   "outputs": [
    {
     "data": {
      "text/plain": [
       "<AxesSubplot:xlabel='Year'>"
      ]
     },
     "execution_count": 38,
     "metadata": {},
     "output_type": "execute_result"
    },
    {
     "data": {
      "image/png": "[encoded data removed]",
      "text/plain": [
       "<Figure size 432x288 with 1 Axes>"
      ]
     },
     "metadata": {
      "needs_background": "light"
     },
     "output_type": "display_data"
    }
   ],
   "source": [
    "sns.scatterplot(x=df['Year'])"
   ]
  },
  {
   "cell_type": "code",
   "execution_count": 39,
   "id": "49910f69",
   "metadata": {},
   "outputs": [
    {
     "name": "stderr",
     "output_type": "stream",
     "text": [
      "C:\\ProgramData\\Anaconda3\\lib\\site-packages\\seaborn\\_decorators.py:36: FutureWarning: Pass the following variable as a keyword arg: x. From version 0.12, the only valid positional argument will be `data`, and passing other arguments without an explicit keyword will result in an error or misinterpretation.\n",
      "  warnings.warn(\n"
     ]
    },
    {
     "data": {
      "text/plain": [
       "<AxesSubplot:xlabel='Value'>"
      ]
     },
     "execution_count": 39,
     "metadata": {},
     "output_type": "execute_result"
    },
    {
     "data": {
      "image/png": "[encoded data removed]",
      "text/plain": [
       "<Figure size 432x288 with 1 Axes>"
      ]
     },
     "metadata": {
      "needs_background": "light"
     },
     "output_type": "display_data"
    }
   ],
   "source": [
    "sns.scatterplot(df['Value'])"
   ]
  },
  {
   "cell_type": "code",
   "execution_count": 41,
   "id": "9037583f",
   "metadata": {},
   "outputs": [
    {
     "name": "stderr",
     "output_type": "stream",
     "text": [
      "C:\\ProgramData\\Anaconda3\\lib\\site-packages\\seaborn\\_decorators.py:36: FutureWarning: Pass the following variable as a keyword arg: x. From version 0.12, the only valid positional argument will be `data`, and passing other arguments without an explicit keyword will result in an error or misinterpretation.\n",
      "  warnings.warn(\n"
     ]
    },
    {
     "data": {
      "text/plain": [
       "<AxesSubplot:xlabel='Year', ylabel='count'>"
      ]
     },
     "execution_count": 41,
     "metadata": {},
     "output_type": "execute_result"
    },
    {
     "data": {
      "image/png": "[encoded data removed]",
      "text/plain": [
       "<Figure size 432x288 with 1 Axes>"
      ]
     },
     "metadata": {
      "needs_background": "light"
     },
     "output_type": "display_data"
    }
   ],
   "source": [
    "sns.countplot(df['Year'])"
   ]
  },
  {
   "cell_type": "code",
   "execution_count": 42,
   "id": "d29108b1",
   "metadata": {},
   "outputs": [
    {
     "data": {
      "text/plain": [
       "<AxesSubplot:xlabel='Year', ylabel='Value'>"
      ]
     },
     "execution_count": 42,
     "metadata": {},
     "output_type": "execute_result"
    },
    {
     "data": {
      "image/png": "[encoded data removed]",
      "text/plain": [
       "<Figure size 432x288 with 1 Axes>"
      ]
     },
     "metadata": {
      "needs_background": "light"
     },
     "output_type": "display_data"
    }
   ],
   "source": [
    "sns.stripplot(x=df['Year'], y=df['Value'], jitter=True)"
   ]
  },
  {
   "cell_type": "code",
   "execution_count": 43,
   "id": "c6e526a3",
   "metadata": {},
   "outputs": [
    {
     "data": {
      "image/png": "[encoded data removed]",
      "text/plain": [
       "<Figure size 432x288 with 1 Axes>"
      ]
     },
     "metadata": {
      "needs_background": "light"
     },
     "output_type": "display_data"
    }
   ],
   "source": [
    "plt.plot(df[\"Year\"], df[\"Value\"])\n",
    "plt.title(\"pesticides table \")\n",
    "plt.xlabel(\"Year\")\n",
    "plt.ylabel(\"Value\")\n",
    "plt.show()"
   ]
  },
  {
   "cell_type": "code",
   "execution_count": 56,
   "id": "34ed9878",
   "metadata": {},
   "outputs": [
    {
     "data": {
      "text/plain": [
       "<AxesSubplot:>"
      ]
     },
     "execution_count": 56,
     "metadata": {},
     "output_type": "execute_result"
    },
    {
     "data": {
      "image/png": "[encoded data removed]",
      "text/plain": [
       "<Figure size 432x288 with 1 Axes>"
      ]
     },
     "metadata": {
      "needs_background": "light"
     },
     "output_type": "display_data"
    }
   ],
   "source": [
    "df[\"Value\"].value_counts().plot(kind=\"bar\")"
   ]
  },
  {
   "cell_type": "code",
   "execution_count": 46,
   "id": "315f6de8",
   "metadata": {},
   "outputs": [
    {
     "data": {
      "text/plain": [
       "<AxesSubplot:>"
      ]
     },
     "execution_count": 46,
     "metadata": {},
     "output_type": "execute_result"
    },
    {
     "data": {
      "image/png": "[encoded data removed]",
      "text/plain": [
       "<Figure size 432x288 with 1 Axes>"
      ]
     },
     "metadata": {
      "needs_background": "light"
     },
     "output_type": "display_data"
    }
   ],
   "source": [
    "df[\"Year\"].value_counts().plot(kind=\"barh\")\n"
   ]
  },
  {
   "cell_type": "code",
   "execution_count": 47,
   "id": "596a111c",
   "metadata": {},
   "outputs": [
    {
     "data": {
      "text/plain": [
       "<AxesSubplot:>"
      ]
     },
     "execution_count": 47,
     "metadata": {},
     "output_type": "execute_result"
    },
    {
     "data": {
      "image/png": "[encoded data removed]",
      "text/plain": [
       "<Figure size 432x288 with 1 Axes>"
      ]
     },
     "metadata": {
      "needs_background": "light"
     },
     "output_type": "display_data"
    }
   ],
   "source": [
    "df[\"Year\"].value_counts().plot(kind=\"barh\")"
   ]
  },
  {
   "cell_type": "code",
   "execution_count": 49,
   "id": "9ceb57f3",
   "metadata": {},
   "outputs": [
    {
     "data": {
      "text/plain": [
       "[<matplotlib.lines.Line2D at 0x228c275f340>]"
      ]
     },
     "execution_count": 49,
     "metadata": {},
     "output_type": "execute_result"
    },
    {
     "data": {
      "image/png": "[encoded data removed]",
      "text/plain": [
       "<Figure size 432x288 with 1 Axes>"
      ]
     },
     "metadata": {
      "needs_background": "light"
     },
     "output_type": "display_data"
    }
   ],
   "source": [
    "plt.plot(df[\"Year\"], df[\"Value\"])"
   ]
  },
  {
   "cell_type": "code",
   "execution_count": 50,
   "id": "a307c09e",
   "metadata": {},
   "outputs": [
    {
     "data": {
      "text/plain": [
       "<AxesSubplot:>"
      ]
     },
     "execution_count": 50,
     "metadata": {},
     "output_type": "execute_result"
    },
    {
     "data": {
      "image/png": "[encoded data removed]",
      "text/plain": [
       "<Figure size 432x288 with 1 Axes>"
      ]
     },
     "metadata": {
      "needs_background": "light"
     },
     "output_type": "display_data"
    }
   ],
   "source": [
    "df[[\"Year\",\"Value\"]].plot.area()"
   ]
  },
  {
   "cell_type": "code",
   "execution_count": 51,
   "id": "ca6a625a",
   "metadata": {},
   "outputs": [
    {
     "data": {
      "text/plain": [
       "<AxesSubplot:ylabel='Frequency'>"
      ]
     },
     "execution_count": 51,
     "metadata": {},
     "output_type": "execute_result"
    },
    {
     "data": {
      "image/png": "[encoded data removed]",
      "text/plain": [
       "<Figure size 432x288 with 1 Axes>"
      ]
     },
     "metadata": {
      "needs_background": "light"
     },
     "output_type": "display_data"
    }
   ],
   "source": [
    "df[\"Year\"].plot(kind=\"hist\", bins=10)"
   ]
  },
  {
   "cell_type": "code",
   "execution_count": 53,
   "id": "9f4cf196",
   "metadata": {},
   "outputs": [
    {
     "data": {
      "text/plain": [
       "<AxesSubplot:xlabel='Year', ylabel='Value'>"
      ]
     },
     "execution_count": 53,
     "metadata": {},
     "output_type": "execute_result"
    },
    {
     "data": {
      "image/png": "[encoded data removed]",
      "text/plain": [
       "<Figure size 432x288 with 1 Axes>"
      ]
     },
     "metadata": {
      "needs_background": "light"
     },
     "output_type": "display_data"
    }
   ],
   "source": [
    "sns.boxplot(x=\"Year\", y=\"Value\", data=df)"
   ]
  },
  {
   "cell_type": "code",
   "execution_count": 54,
   "id": "2dcc3f4d",
   "metadata": {},
   "outputs": [
    {
     "data": {
      "text/plain": [
       "<AxesSubplot:xlabel='Value', ylabel='Year'>"
      ]
     },
     "execution_count": 54,
     "metadata": {},
     "output_type": "execute_result"
    },
    {
     "data": {
      "image/png": "[encoded data removed]",
      "text/plain": [
       "<Figure size 432x288 with 1 Axes>"
      ]
     },
     "metadata": {
      "needs_background": "light"
     },
     "output_type": "display_data"
    }
   ],
   "source": [
    "sns.violinplot(x=\"Value\", y=\"Year\", data=df)"
   ]
  },
  {
   "cell_type": "code",
   "execution_count": 55,
   "id": "094b3b70",
   "metadata": {},
   "outputs": [
    {
     "data": {
      "text/plain": [
       "<AxesSubplot:xlabel='Year', ylabel='Density'>"
      ]
     },
     "execution_count": 55,
     "metadata": {},
     "output_type": "execute_result"
    },
    {
     "data": {
      "image/png": "[encoded data removed]",
      "text/plain": [
       "<Figure size 432x288 with 1 Axes>"
      ]
     },
     "metadata": {
      "needs_background": "light"
     },
     "output_type": "display_data"
    }
   ],
   "source": [
    "sns.kdeplot(df[\"Year\"], shade=True)"
   ]
  },
  {
   "cell_type": "code",
   "execution_count": 57,
   "id": "6c5e04ce",
   "metadata": {},
   "outputs": [
    {
     "data": {
      "text/plain": [
       "<AxesSubplot:xlabel='Year'>"
      ]
     },
     "execution_count": 57,
     "metadata": {},
     "output_type": "execute_result"
    },
    {
     "data": {
      "image/png": "[encoded data removed]",
      "text/plain": [
       "<Figure size 432x288 with 1 Axes>"
      ]
     },
     "metadata": {
      "needs_background": "light"
     },
     "output_type": "display_data"
    }
   ],
   "source": [
    "sns.rugplot(df[\"Year\"])"
   ]
  },
  {
   "cell_type": "code",
   "execution_count": 58,
   "id": "ef5fdca6",
   "metadata": {},
   "outputs": [
    {
     "data": {
      "text/plain": [
       "<matplotlib.collections.PathCollection at 0x228d1109910>"
      ]
     },
     "execution_count": 58,
     "metadata": {},
     "output_type": "execute_result"
    },
    {
     "data": {
      "image/png": "[encoded data removed]",
      "text/plain": [
       "<Figure size 432x288 with 1 Axes>"
      ]
     },
     "metadata": {
      "needs_background": "light"
     },
     "output_type": "display_data"
    }
   ],
   "source": [
    "plt.scatter(df[\"Value\"], df[\"Year\"])"
   ]
  },
  {
   "cell_type": "code",
   "execution_count": 59,
   "id": "4b877af2",
   "metadata": {},
   "outputs": [
    {
     "data": {
      "text/plain": [
       "<matplotlib.collections.PathCollection at 0x228d29004c0>"
      ]
     },
     "execution_count": 59,
     "metadata": {},
     "output_type": "execute_result"
    },
    {
     "data": {
      "image/png": "[encoded data removed]",
      "text/plain": [
       "<Figure size 432x288 with 1 Axes>"
      ]
     },
     "metadata": {
      "needs_background": "light"
     },
     "output_type": "display_data"
    }
   ],
   "source": [
    "plt.scatter(df[\"Year\"], df[\"Value\"], s=df[\"Year\"]*100)"
   ]
  },
  {
   "cell_type": "code",
   "execution_count": 62,
   "id": "2c35d843",
   "metadata": {},
   "outputs": [
    {
     "data": {
      "text/plain": [
       "(<matplotlib.collections.PathCollection at 0x228d2aa92e0>,\n",
       " 0       1990\n",
       " 1       1991\n",
       " 2       1992\n",
       " 3       1993\n",
       " 4       1994\n",
       "         ... \n",
       " 4344    2012\n",
       " 4345    2013\n",
       " 4346    2014\n",
       " 4347    2015\n",
       " 4348    2016\n",
       " Name: Year, Length: 4349, dtype: int64)"
      ]
     },
     "execution_count": 62,
     "metadata": {},
     "output_type": "execute_result"
    },
    {
     "data": {
      "image/png": "[encoded data removed]",
      "text/plain": [
       "<Figure size 432x288 with 1 Axes>"
      ]
     },
     "metadata": {
      "needs_background": "light"
     },
     "output_type": "display_data"
    }
   ],
   "source": [
    "plt.scatter(df[\"Year\"], df[\"Value\"], s=df[\"Value\"]*100),df[\"Year\"]"
   ]
  },
  {
   "cell_type": "code",
   "execution_count": 63,
   "id": "a24200d7",
   "metadata": {},
   "outputs": [
    {
     "data": {
      "text/plain": [
       "<AxesSubplot:>"
      ]
     },
     "execution_count": 63,
     "metadata": {},
     "output_type": "execute_result"
    },
    {
     "data": {
      "image/png": "[encoded data removed]",
      "text/plain": [
       "<Figure size 432x288 with 1 Axes>"
      ]
     },
     "metadata": {
      "needs_background": "light"
     },
     "output_type": "display_data"
    }
   ],
   "source": [
    "df[[\"Value\",\"Year\"]].plot.area(stacked=True)"
   ]
  }
 ],
 "metadata": {
  "kernelspec": {
   "display_name": "Python 3 (ipykernel)",
   "language": "python",
   "name": "python3"
  },
  "language_info": {
   "codemirror_mode": {
    "name": "ipython",
    "version": 3
   },
   "file_extension": ".py",
   "mimetype": "text/x-python",
   "name": "python",
   "nbconvert_exporter": "python",
   "pygments_lexer": "ipython3",
   "version": "3.9.12"
  }
 },
 "nbformat": 4,
 "nbformat_minor": 5
}
